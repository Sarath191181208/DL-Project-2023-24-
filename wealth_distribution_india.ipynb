{
 "cells": [
  {
   "cell_type": "code",
   "execution_count": 1,
   "metadata": {},
   "outputs": [],
   "source": [
    "import numpy as np\n",
    "import matplotlib as mpl\n",
    "import matplotlib.pyplot as plt\n",
    "from matplotlib import patches\n",
    "import pandas as pd\n",
    "import seaborn as sns\n",
    "\n",
    "## use display for html output\n",
    "from IPython.display import display, HTML\n",
    "\n",
    "# auto-reload modules\n",
    "%load_ext autoreload\n",
    "%autoreload 2\n",
    "\n",
    "# set dark theme\n",
    "plt.style.use('dark_background')"
   ]
  },
  {
   "cell_type": "code",
   "execution_count": 2,
   "metadata": {},
   "outputs": [
    {
     "data": {
      "text/html": [
       "<div>\n",
       "<style scoped>\n",
       "    .dataframe tbody tr th:only-of-type {\n",
       "        vertical-align: middle;\n",
       "    }\n",
       "\n",
       "    .dataframe tbody tr th {\n",
       "        vertical-align: top;\n",
       "    }\n",
       "\n",
       "    .dataframe thead th {\n",
       "        text-align: right;\n",
       "    }\n",
       "</style>\n",
       "<table border=\"1\" class=\"dataframe\">\n",
       "  <thead>\n",
       "    <tr style=\"text-align: right;\">\n",
       "      <th></th>\n",
       "      <th>percentile</th>\n",
       "      <th>year</th>\n",
       "      <th>percentage</th>\n",
       "    </tr>\n",
       "  </thead>\n",
       "  <tbody>\n",
       "    <tr>\n",
       "      <th>0</th>\n",
       "      <td>p90p100</td>\n",
       "      <td>1820</td>\n",
       "      <td>0.4800</td>\n",
       "    </tr>\n",
       "    <tr>\n",
       "      <th>30</th>\n",
       "      <td>p90p100</td>\n",
       "      <td>1850</td>\n",
       "      <td>0.5000</td>\n",
       "    </tr>\n",
       "    <tr>\n",
       "      <th>60</th>\n",
       "      <td>p90p100</td>\n",
       "      <td>1880</td>\n",
       "      <td>0.5460</td>\n",
       "    </tr>\n",
       "    <tr>\n",
       "      <th>80</th>\n",
       "      <td>p90p100</td>\n",
       "      <td>1900</td>\n",
       "      <td>0.5376</td>\n",
       "    </tr>\n",
       "    <tr>\n",
       "      <th>90</th>\n",
       "      <td>p90p100</td>\n",
       "      <td>1910</td>\n",
       "      <td>0.4480</td>\n",
       "    </tr>\n",
       "  </tbody>\n",
       "</table>\n",
       "</div>"
      ],
      "text/plain": [
       "   percentile  year  percentage\n",
       "0     p90p100  1820      0.4800\n",
       "30    p90p100  1850      0.5000\n",
       "60    p90p100  1880      0.5460\n",
       "80    p90p100  1900      0.5376\n",
       "90    p90p100  1910      0.4480"
      ]
     },
     "execution_count": 2,
     "metadata": {},
     "output_type": "execute_result"
    }
   ],
   "source": [
    "df = pd.read_csv('./data/WID_Data_pretax_India_national_income.csv', sep=';')\n",
    "df_average_income = pd.read_csv('./data/WID_Data_average_income.csv', sep=';')\n",
    "df = df.dropna()\n",
    "df.head()"
   ]
  },
  {
   "cell_type": "code",
   "execution_count": 3,
   "metadata": {},
   "outputs": [
    {
     "data": {
      "text/html": [
       "<div>\n",
       "<style scoped>\n",
       "    .dataframe tbody tr th:only-of-type {\n",
       "        vertical-align: middle;\n",
       "    }\n",
       "\n",
       "    .dataframe tbody tr th {\n",
       "        vertical-align: top;\n",
       "    }\n",
       "\n",
       "    .dataframe thead th {\n",
       "        text-align: right;\n",
       "    }\n",
       "</style>\n",
       "<table border=\"1\" class=\"dataframe\">\n",
       "  <thead>\n",
       "    <tr style=\"text-align: right;\">\n",
       "      <th></th>\n",
       "      <th>percentile</th>\n",
       "      <th>year</th>\n",
       "      <th>percentage</th>\n",
       "    </tr>\n",
       "  </thead>\n",
       "  <tbody>\n",
       "    <tr>\n",
       "      <th>0</th>\n",
       "      <td>p90p100</td>\n",
       "      <td>1820</td>\n",
       "      <td>0.4800</td>\n",
       "    </tr>\n",
       "    <tr>\n",
       "      <th>404</th>\n",
       "      <td>p99p100</td>\n",
       "      <td>1820</td>\n",
       "      <td>0.1600</td>\n",
       "    </tr>\n",
       "    <tr>\n",
       "      <th>202</th>\n",
       "      <td>p0p50</td>\n",
       "      <td>1820</td>\n",
       "      <td>0.1756</td>\n",
       "    </tr>\n",
       "    <tr>\n",
       "      <th>30</th>\n",
       "      <td>p90p100</td>\n",
       "      <td>1850</td>\n",
       "      <td>0.5000</td>\n",
       "    </tr>\n",
       "    <tr>\n",
       "      <th>434</th>\n",
       "      <td>p99p100</td>\n",
       "      <td>1850</td>\n",
       "      <td>0.1800</td>\n",
       "    </tr>\n",
       "  </tbody>\n",
       "</table>\n",
       "</div>"
      ],
      "text/plain": [
       "    percentile  year  percentage\n",
       "0      p90p100  1820      0.4800\n",
       "404    p99p100  1820      0.1600\n",
       "202      p0p50  1820      0.1756\n",
       "30     p90p100  1850      0.5000\n",
       "434    p99p100  1850      0.1800"
      ]
     },
     "execution_count": 3,
     "metadata": {},
     "output_type": "execute_result"
    }
   ],
   "source": [
    "# sort the data according to the year\n",
    "df = df.sort_values(by=['year'])\n",
    "df.head()"
   ]
  },
  {
   "cell_type": "code",
   "execution_count": 4,
   "metadata": {},
   "outputs": [
    {
     "data": {
      "text/html": [
       "<div>\n",
       "<style scoped>\n",
       "    .dataframe tbody tr th:only-of-type {\n",
       "        vertical-align: middle;\n",
       "    }\n",
       "\n",
       "    .dataframe tbody tr th {\n",
       "        vertical-align: top;\n",
       "    }\n",
       "\n",
       "    .dataframe thead th {\n",
       "        text-align: right;\n",
       "    }\n",
       "</style>\n",
       "<table border=\"1\" class=\"dataframe\">\n",
       "  <thead>\n",
       "    <tr style=\"text-align: right;\">\n",
       "      <th></th>\n",
       "      <th>percentile</th>\n",
       "      <th>year</th>\n",
       "      <th>percentage</th>\n",
       "    </tr>\n",
       "  </thead>\n",
       "  <tbody>\n",
       "    <tr>\n",
       "      <th>564</th>\n",
       "      <td>p99p100</td>\n",
       "      <td>1980</td>\n",
       "      <td>0.0754</td>\n",
       "    </tr>\n",
       "    <tr>\n",
       "      <th>160</th>\n",
       "      <td>p90p100</td>\n",
       "      <td>1980</td>\n",
       "      <td>0.3236</td>\n",
       "    </tr>\n",
       "    <tr>\n",
       "      <th>362</th>\n",
       "      <td>p0p50</td>\n",
       "      <td>1980</td>\n",
       "      <td>0.2121</td>\n",
       "    </tr>\n",
       "    <tr>\n",
       "      <th>363</th>\n",
       "      <td>p0p50</td>\n",
       "      <td>1981</td>\n",
       "      <td>0.2139</td>\n",
       "    </tr>\n",
       "    <tr>\n",
       "      <th>565</th>\n",
       "      <td>p99p100</td>\n",
       "      <td>1981</td>\n",
       "      <td>0.0688</td>\n",
       "    </tr>\n",
       "  </tbody>\n",
       "</table>\n",
       "</div>"
      ],
      "text/plain": [
       "    percentile  year  percentage\n",
       "564    p99p100  1980      0.0754\n",
       "160    p90p100  1980      0.3236\n",
       "362      p0p50  1980      0.2121\n",
       "363      p0p50  1981      0.2139\n",
       "565    p99p100  1981      0.0688"
      ]
     },
     "execution_count": 4,
     "metadata": {},
     "output_type": "execute_result"
    }
   ],
   "source": [
    "# filter all the years that are less than 1980 \n",
    "df = df[df['year'] >= 1980]\n",
    "df.head()"
   ]
  },
  {
   "cell_type": "code",
   "execution_count": 5,
   "metadata": {},
   "outputs": [
    {
     "data": {
      "text/plain": [
       "Series([], Name: year, dtype: int64)"
      ]
     },
     "execution_count": 5,
     "metadata": {},
     "output_type": "execute_result"
    }
   ],
   "source": [
    "# count the number of years that aren't repeated 3 times and show the years\n",
    "years_count = df['year'].value_counts()\n",
    "years_count[years_count != 3]"
   ]
  },
  {
   "cell_type": "code",
   "execution_count": 6,
   "metadata": {},
   "outputs": [
    {
     "data": {
      "text/html": [
       "<div>\n",
       "<style scoped>\n",
       "    .dataframe tbody tr th:only-of-type {\n",
       "        vertical-align: middle;\n",
       "    }\n",
       "\n",
       "    .dataframe tbody tr th {\n",
       "        vertical-align: top;\n",
       "    }\n",
       "\n",
       "    .dataframe thead th {\n",
       "        text-align: right;\n",
       "    }\n",
       "</style>\n",
       "<table border=\"1\" class=\"dataframe\">\n",
       "  <thead>\n",
       "    <tr style=\"text-align: right;\">\n",
       "      <th></th>\n",
       "      <th>year</th>\n",
       "      <th>percentile</th>\n",
       "      <th>percentage</th>\n",
       "    </tr>\n",
       "  </thead>\n",
       "  <tbody>\n",
       "    <tr>\n",
       "      <th>0</th>\n",
       "      <td>1980</td>\n",
       "      <td>p90p99</td>\n",
       "      <td>0.2482</td>\n",
       "    </tr>\n",
       "    <tr>\n",
       "      <th>1</th>\n",
       "      <td>1981</td>\n",
       "      <td>p90p99</td>\n",
       "      <td>0.2467</td>\n",
       "    </tr>\n",
       "    <tr>\n",
       "      <th>2</th>\n",
       "      <td>1982</td>\n",
       "      <td>p90p99</td>\n",
       "      <td>0.2459</td>\n",
       "    </tr>\n",
       "    <tr>\n",
       "      <th>3</th>\n",
       "      <td>1983</td>\n",
       "      <td>p90p99</td>\n",
       "      <td>0.2558</td>\n",
       "    </tr>\n",
       "    <tr>\n",
       "      <th>4</th>\n",
       "      <td>1984</td>\n",
       "      <td>p90p99</td>\n",
       "      <td>0.2512</td>\n",
       "    </tr>\n",
       "  </tbody>\n",
       "</table>\n",
       "</div>"
      ],
      "text/plain": [
       "   year percentile  percentage\n",
       "0  1980     p90p99      0.2482\n",
       "1  1981     p90p99      0.2467\n",
       "2  1982     p90p99      0.2459\n",
       "3  1983     p90p99      0.2558\n",
       "4  1984     p90p99      0.2512"
      ]
     },
     "execution_count": 6,
     "metadata": {},
     "output_type": "execute_result"
    }
   ],
   "source": [
    "# iterate every three rows and calulate the p50p90 for all the years\n",
    "p50p90 = {\n",
    "    'year': [],\n",
    "    'percentile': [],\n",
    "    'percentage': []\n",
    "}\n",
    "p90p99 = {\n",
    "    'year': [],\n",
    "    'percentile': [],\n",
    "    'percentage': []\n",
    "}\n",
    "for i in range(0, len(df), 3):\n",
    "    df_temp = df.iloc[i:i+3]\n",
    "    p99p100 = df_temp[df_temp['percentile'] == 'p99p100']   \n",
    "    p90p100 = df_temp[df_temp['percentile'] == 'p90p100']\n",
    "    p0p50 = df_temp[df_temp['percentile'] == 'p0p50']\n",
    "\n",
    "    p50p90['year'].append(p90p100['year'].values[0])\n",
    "    p90p99['year'].append(p90p100['year'].values[0])\n",
    "    p50p90['percentile'].append('p50p90')\n",
    "    p90p99['percentile'].append('p90p99')\n",
    "\n",
    "    p50p90['percentage'].append( 1 - (p90p100['percentage'].values[0] + p0p50['percentage'].values[0]) )\n",
    "    p90p99['percentage'].append( p90p100['percentage'].values[0] -p99p100['percentage'].values[0] ) \n",
    "\n",
    "p50p90 = pd.DataFrame(p50p90)\n",
    "p90p99 = pd.DataFrame(p90p99)\n",
    "p90p99.head()"
   ]
  },
  {
   "cell_type": "code",
   "execution_count": 7,
   "metadata": {},
   "outputs": [
    {
     "data": {
      "text/html": [
       "<div>\n",
       "<style scoped>\n",
       "    .dataframe tbody tr th:only-of-type {\n",
       "        vertical-align: middle;\n",
       "    }\n",
       "\n",
       "    .dataframe tbody tr th {\n",
       "        vertical-align: top;\n",
       "    }\n",
       "\n",
       "    .dataframe thead th {\n",
       "        text-align: right;\n",
       "    }\n",
       "</style>\n",
       "<table border=\"1\" class=\"dataframe\">\n",
       "  <thead>\n",
       "    <tr style=\"text-align: right;\">\n",
       "      <th></th>\n",
       "      <th>percentile</th>\n",
       "      <th>year</th>\n",
       "      <th>percentage</th>\n",
       "    </tr>\n",
       "  </thead>\n",
       "  <tbody>\n",
       "    <tr>\n",
       "      <th>564</th>\n",
       "      <td>p99p100</td>\n",
       "      <td>1980</td>\n",
       "      <td>0.0754</td>\n",
       "    </tr>\n",
       "    <tr>\n",
       "      <th>160</th>\n",
       "      <td>p90p100</td>\n",
       "      <td>1980</td>\n",
       "      <td>0.3236</td>\n",
       "    </tr>\n",
       "    <tr>\n",
       "      <th>362</th>\n",
       "      <td>p0p50</td>\n",
       "      <td>1980</td>\n",
       "      <td>0.2121</td>\n",
       "    </tr>\n",
       "    <tr>\n",
       "      <th>0</th>\n",
       "      <td>p90p99</td>\n",
       "      <td>1980</td>\n",
       "      <td>0.2482</td>\n",
       "    </tr>\n",
       "    <tr>\n",
       "      <th>0</th>\n",
       "      <td>p50p90</td>\n",
       "      <td>1980</td>\n",
       "      <td>0.4643</td>\n",
       "    </tr>\n",
       "  </tbody>\n",
       "</table>\n",
       "</div>"
      ],
      "text/plain": [
       "    percentile  year  percentage\n",
       "564    p99p100  1980      0.0754\n",
       "160    p90p100  1980      0.3236\n",
       "362      p0p50  1980      0.2121\n",
       "0       p90p99  1980      0.2482\n",
       "0       p50p90  1980      0.4643"
      ]
     },
     "execution_count": 7,
     "metadata": {},
     "output_type": "execute_result"
    }
   ],
   "source": [
    "# add the p50p90 and p90p99 to the dataframe\n",
    "df = df.append(p50p90)\n",
    "df = df.append(p90p99)\n",
    "df = df.sort_values(by=['year'])\n",
    "df.head()"
   ]
  },
  {
   "cell_type": "code",
   "execution_count": 8,
   "metadata": {},
   "outputs": [],
   "source": [
    "# remove the p90p100 as it's not needed anymore\n",
    "df = df[df['percentile'] != 'p90p100']"
   ]
  },
  {
   "cell_type": "code",
   "execution_count": 9,
   "metadata": {},
   "outputs": [
    {
     "data": {
      "text/plain": [
       "<matplotlib.axes._subplots.AxesSubplot at 0x20aadd11e80>"
      ]
     },
     "execution_count": 9,
     "metadata": {},
     "output_type": "execute_result"
    },
    {
     "data": {
      "image/png": "[encoded data removed]",
      "text/plain": [
       "<Figure size 432x288 with 1 Axes>"
      ]
     },
     "metadata": {},
     "output_type": "display_data"
    }
   ],
   "source": [
    "# plot the data x-axis year; y-axis: percentage; hue: percentile\n",
    "sns.lineplot(x='year', y='percentage', hue='percentile', data=df)"
   ]
  },
  {
   "attachments": {},
   "cell_type": "markdown",
   "metadata": {},
   "source": [
    "From this graph we can observe how each percentile in India is performing and how it's percentage of contribution to Indian economy is. \n",
    "Here we can observe that the top 10% of the population is contributing to 55% of the economy. And the top 1% of the population is contributing to above 20% of the economy.And has the maximum amount of wealth."
   ]
  },
  {
   "cell_type": "code",
   "execution_count": 11,
   "metadata": {},
   "outputs": [],
   "source": [
    "year = 2019 \n",
    "# take the year 2019 \n",
    "df_2019 = df[df['year'] == year]"
   ]
  },
  {
   "cell_type": "code",
   "execution_count": null,
   "metadata": {},
   "outputs": [],
   "source": [
    "from calculate_tax import tax_india_2019\n",
    "\n",
    "def percentile_str_to_float(x: str) -> float:\n",
    "    \"\"\" Converts the labels into float p90p100 -> ( 90 + 100 ) / 2 = 95 \"\"\"\n",
    "    return float(sum( [int(i) for i in x.split('p') if i != \"\"])/2 )\n",
    "\n",
    "def get_income(percentile_str: str, avg_income: float) -> float:\n",
    "    \"\"\" Returns the income for a given percentile \"\"\"\n",
    "    income = percentile_str_to_float(percentile_str) * avg_income\n",
    "    return income\n",
    "\n",
    "average_income_2019 = df_average_income[df_average_income['year'] == year]['income'].values[0]\n",
    "df_2019['income'] = df_2019['percentile'].apply(lambda x: get_income(x, average_income_2019))\n",
    "df_2019['tax'] = df_2019['income'].apply(lambda x: tax_india_2019(x))\n",
    "df_2019['taxed_income'] = df_2019['income'] - df_2019['tax']"
   ]
  },
  {
   "cell_type": "code",
   "execution_count": 13,
   "metadata": {},
   "outputs": [],
   "source": [
    "# remove duplicate perceniles \n",
    "df_2019 = df_2019.drop_duplicates(subset=['percentile'])"
   ]
  },
  {
   "cell_type": "code",
   "execution_count": 14,
   "metadata": {},
   "outputs": [],
   "source": [
    "# caluculate the percentage of the taxed income\n",
    "df_2019['taxed_income_percentage'] = df_2019['taxed_income'] / df_2019['taxed_income'].sum()"
   ]
  },
  {
   "cell_type": "code",
   "execution_count": 15,
   "metadata": {},
   "outputs": [
    {
     "data": {
      "text/plain": [
       "Text(0.5, 1.0, 'Income distribution in India 2019 after taxing')"
      ]
     },
     "execution_count": 15,
     "metadata": {},
     "output_type": "execute_result"
    },
    {
     "data": {
      "image/png": "[encoded data removed]",
      "text/plain": [
       "<Figure size 1440x576 with 2 Axes>"
      ]
     },
     "metadata": {},
     "output_type": "display_data"
    }
   ],
   "source": [
    "# sort by percentile \n",
    "df_2019 = df_2019.sort_values(by=['percentile'])\n",
    "\n",
    "# show percentage and taxed income percentage side by side \n",
    "fig, (ax1, ax2) = plt.subplots(1, 2, figsize=(20, 8))\n",
    "\n",
    "\n",
    "sns.barplot(x='percentile', y='percentage', data=df_2019, ax=ax1)\n",
    "ax1.set_title('Income distribution in India 2019 before taxing')\n",
    "\n",
    "sns.barplot(x='percentile', y='taxed_income_percentage', data=df_2019, ax=ax2)\n",
    "ax2.set_title('Income distribution in India 2019 after taxing')"
   ]
  },
  {
   "cell_type": "code",
   "execution_count": 16,
   "metadata": {},
   "outputs": [
    {
     "data": {
      "text/html": [
       "<div>\n",
       "<style scoped>\n",
       "    .dataframe tbody tr th:only-of-type {\n",
       "        vertical-align: middle;\n",
       "    }\n",
       "\n",
       "    .dataframe tbody tr th {\n",
       "        vertical-align: top;\n",
       "    }\n",
       "\n",
       "    .dataframe thead th {\n",
       "        text-align: right;\n",
       "    }\n",
       "</style>\n",
       "<table border=\"1\" class=\"dataframe\">\n",
       "  <thead>\n",
       "    <tr style=\"text-align: right;\">\n",
       "      <th></th>\n",
       "      <th>percentile</th>\n",
       "      <th>percentage</th>\n",
       "    </tr>\n",
       "  </thead>\n",
       "  <tbody>\n",
       "    <tr>\n",
       "      <th>401</th>\n",
       "      <td>p0p50</td>\n",
       "      <td>0.1313</td>\n",
       "    </tr>\n",
       "    <tr>\n",
       "      <th>39</th>\n",
       "      <td>p50p90</td>\n",
       "      <td>0.2974</td>\n",
       "    </tr>\n",
       "    <tr>\n",
       "      <th>39</th>\n",
       "      <td>p90p99</td>\n",
       "      <td>0.3540</td>\n",
       "    </tr>\n",
       "    <tr>\n",
       "      <th>603</th>\n",
       "      <td>p99p100</td>\n",
       "      <td>0.2173</td>\n",
       "    </tr>\n",
       "  </tbody>\n",
       "</table>\n",
       "</div>"
      ],
      "text/plain": [
       "    percentile  percentage\n",
       "401      p0p50      0.1313\n",
       "39      p50p90      0.2974\n",
       "39      p90p99      0.3540\n",
       "603    p99p100      0.2173"
      ]
     },
     "execution_count": 16,
     "metadata": {},
     "output_type": "execute_result"
    }
   ],
   "source": [
    "# take percentile year and percenetage out \n",
    "df_2019_ = df_2019[['percentile', 'percentage']]\n",
    "df_2019_.head()"
   ]
  },
  {
   "cell_type": "code",
   "execution_count": 154,
   "metadata": {},
   "outputs": [
    {
     "data": {
      "text/plain": [
       "Text(0.5, 1.0, 'Income distribution in India 2019 after taxing')"
      ]
     },
     "execution_count": 154,
     "metadata": {},
     "output_type": "execute_result"
    },
    {
     "data": {
      "image/png": "[encoded data removed]",
      "text/plain": [
       "<Figure size 1440x576 with 2 Axes>"
      ]
     },
     "metadata": {},
     "output_type": "display_data"
    }
   ],
   "source": [
    "from .square_area_proportion_plot import square_area_proportion_plot\n",
    "\n",
    "\n",
    "fig, (ax1, ax2) = plt.subplots(1, 2, figsize=(20, 8))\n",
    "square_area_proportion_plot(df_2019_, ax=ax1)\n",
    "ax1.set_title('Income distribution in India 2019 before taxing')\n",
    "_df = df_2019[['percentile', 'taxed_income_percentage']]\n",
    "# rename taxed_income_percentage -> percentage\n",
    "_df = _df.rename(columns={'taxed_income_percentage': 'percentage'})\n",
    "square_area_proportion_plot(_df, ax=ax2)\n",
    "ax2.set_title('Income distribution in India 2019 after taxing')"
   ]
  }
 ],
 "metadata": {
  "kernelspec": {
   "display_name": ".venv",
   "language": "python",
   "name": "python3"
  },
  "language_info": {
   "codemirror_mode": {
    "name": "ipython",
    "version": 3
   },
   "file_extension": ".py",
   "mimetype": "text/x-python",
   "name": "python",
   "nbconvert_exporter": "python",
   "pygments_lexer": "ipython3",
   "version": "3.8.10"
  },
  "orig_nbformat": 4
 },
 "nbformat": 4,
 "nbformat_minor": 2
}
